{
 "cells": [
  {
   "cell_type": "markdown",
   "id": "aa147aab-bf11-4f5a-aa0c-64b6848834c6",
   "metadata": {},
   "source": [
    "# Your First TrackStar Program\n",
    "\n",
    "In this tutorial, we'll set up a simple mock data set and compute the likelihood function for the input model and a few simple variations.\n",
    "We'll start by importing NumPy and TrackStar."
   ]
  },
  {
   "cell_type": "code",
   "execution_count": 1,
   "id": "d6b2b879-ea47-4765-b644-160ded8406bf",
   "metadata": {},
   "outputs": [
    {
     "name": "stderr",
     "output_type": "stream",
     "text": [
      "/Users/jamesjohnson/Work/Research/lib/public-dev/TrackStar/trackstar/version.py:91: VersionWarning: Using a development version of TrackStar. Be advised that the features in development may exhibit buggy behavior and/or numerical artifacts. We encourage consulting with TrackStar developers.\n",
      "  if self.dev is not None: warnings.warn(\"\"\"\\\n",
      "/Users/jamesjohnson/Work/Research/lib/public-dev/TrackStar/trackstar/version.py:95: VersionWarning: Using an un-released version of TrackStar.\n",
      "  if not self.isreleased: warnings.warn(\"\"\"\\\n"
     ]
    }
   ],
   "source": [
    "import numpy as np\n",
    "import trackstar"
   ]
  },
  {
   "cell_type": "markdown",
   "id": "3f493ac1-21bd-4e56-a89d-b220f557266b",
   "metadata": {},
   "source": [
    "## A Mock Data Sample\n",
    "\n",
    "Now let's set up a mock data sample.\n",
    "The workhorse for storing data in TrackStar is ``sample``.\n",
    "Let's make one:"
   ]
  },
  {
   "cell_type": "code",
   "execution_count": 7,
   "id": "a252fc26-1fbd-4369-a86a-a8400182bda8",
   "metadata": {},
   "outputs": [
    {
     "name": "stdout",
     "output_type": "stream",
     "text": [
      "sample([\n",
      "        N = 0\n",
      "])\n"
     ]
    }
   ],
   "source": [
    "sample = trackstar.sample()\n",
    "print(sample)"
   ]
  },
  {
   "cell_type": "markdown",
   "id": "b6865250-3751-4188-97d2-c0a0fb66e67b",
   "metadata": {},
   "source": [
    "Right now, the sample is empty.\n",
    "Let's add some data vectors to it!\n",
    "For illustrative purposes, our mock sample will be straight-forward.\n",
    "\n",
    "We'll simply take $N = 100$ points along the line $x = y = z$ in 3-dimensional space.\n",
    "The sample will have an intrinsic distribution the follows a Gaussian centered on zero (i.e. $\\langle x\\rangle = \\langle y\\rangle = \\langle z\\rangle = 0$) with standard deviation of $\\sigma = 1$.\n",
    "To mimic the effects of measurement uncertainty, we'll perturb each \"measurement\" of $x$, $y$, and $z$ by random numbers drawn from a Gaussian distribution with a width $\\sigma_x = \\sigma_y = \\sigma_z = 0.1$.\n",
    "\n",
    "To demonstrate TrackStar's user-friendliness for fitting non-uniform samples, we'll let only *half* of our data vectors have measurements of $z$ available.\n",
    "Such instances may arises, e.g., within astrophysics, when not every star has a reliable age measurement."
   ]
  },
  {
   "cell_type": "code",
   "execution_count": 8,
   "id": "a7bf1e78-8393-463a-8cac-1a1fffd64907",
   "metadata": {},
   "outputs": [],
   "source": [
    "for i in range(100):\n",
    "    # draw a vector based on the underlying model x = y = z\n",
    "    true_x = true_y = true_z = np.random.normal(loc = 0, scale = 1)\n",
    "\n",
    "    # perturb the value by measurement uncertainties\n",
    "    x = true_x + np.random.normal(loc = 0, scale = 0.1)\n",
    "    y = true_y + np.random.normal(loc = 0, scale = 0.1)\n",
    "    z = true_z + np.random.normal(loc = 0, scale = 0.1)\n",
    "    \n",
    "    # now let's make a data vector for these measurements and\n",
    "    # enter the measurement uncertainties into the covariance matrix\n",
    "    vector = {\"x\": x, \"y\": y}\n",
    "    if i % 2: vector[\"z\"] = z # only half of the sample\n",
    "    datum = trackstar.datum(**vector)\n",
    "    datum.cov[0, 0] = 0.1**2 # x\n",
    "    datum.cov[1, 1] = 0.1**2 # y\n",
    "    if i % 2: datum.cov[2, 2] = 0.1**2 # z\n",
    "\n",
    "    # now we can add the data vector to the sample\n",
    "    sample.add_datum(datum)"
   ]
  },
  {
   "cell_type": "markdown",
   "id": "463a0b0f-84fa-456d-a754-ba2c812647cd",
   "metadata": {},
   "source": [
    "Now that we've added our mock data vectors to our sample, let's inspect it!"
   ]
  },
  {
   "cell_type": "code",
   "execution_count": 9,
   "id": "34d7e773-630d-41b7-9fb8-cc86ac2f631e",
   "metadata": {},
   "outputs": [
    {
     "name": "stdout",
     "output_type": "stream",
     "text": [
      "sample([\n",
      "        N = 100\n",
      "        x --------------> [-3.1499e-01,  7.7927e-01,  4.9084e-03, ...,  6.3932e-01,  1.7028e+00,  1.6719e+00]\n",
      "        y --------------> [-3.2047e-01,  8.6081e-01,  7.4616e-02, ...,  6.7807e-01,  1.6721e+00,  1.5787e+00]\n",
      "        z --------------> [ nan       ,  8.2899e-01,  nan       , ...,  5.8805e-01,  nan       ,  1.7248e+00]\n",
      "])\n"
     ]
    }
   ],
   "source": [
    "print(sample)"
   ]
  },
  {
   "cell_type": "markdown",
   "id": "d1ecce76-0563-4ff0-9401-da4042b59438",
   "metadata": {},
   "source": [
    "This output shows a summary of the full sample in a format similar to NumPy arrays.\n",
    "Note in particular that every other measurement of $z$ is recorded as ``nan``, because we only provided a value of $z$ for every other data vector.\n",
    "There are a few caveats associated with this behavior, which we recommend new users familiarize themselves with (see the [note on NaNs in TrackStar](#an-important-note-on-nans-in-trackstar) below)."
   ]
  },
  {
   "cell_type": "markdown",
   "id": "0625b3cf-f436-4bb6-893f-484b6481b957",
   "metadata": {},
   "source": [
    "## An Important Note on NaNs in TrackStar\n",
    "\n",
    "While TrackStar returns ``nan`` values when it does not have a measurement for a particular quantity, they are not stored in the backend. As a consequence, **they do not actually correspond to actual blocks of memory stored on your system**.\n",
    "The ``nan`` values that it returns therefore do not correspond to an existing memory address; instead, TrackStar simply tracks which measurements are available for which quantities, so it knows when it should return a ``nan``.\n",
    "\n",
    "Based on this behavior, TrackStar does not allow users to change ``nan`` values to real numbers or vice versa. Doing so would change the dimensionality of the stored data and result in memory errors.\n",
    "If new measurements are to be added to a data vector that already exists as a ``datum`` variable, one must simply make a new ``datum``."
   ]
  },
  {
   "cell_type": "markdown",
   "id": "07f990fb-b9f4-44b1-bcda-afb0d128b495",
   "metadata": {},
   "source": [
    "### Beware when Indexing Non-Uniform Samples\n",
    "\n",
    "When working with data in which some vectors do not have measurements for every quantity, as is the case in our [mock sample](#a-mock-data-sample) in the $z$-direction, a ``KeyError`` may arise if one is not careful.\n",
    "The notion that *no memory is allocated for the missing quantities* is central to this behavior.\n",
    "To demonstrate this behavior, consider the block of code below, where we ask TrackStar for the measurement of $z$ associated with our $0$'th datum, which has no such measurement:"
   ]
  },
  {
   "cell_type": "code",
   "execution_count": 11,
   "id": "b1e96c4b-673e-4db4-a2c2-368db7108027",
   "metadata": {},
   "outputs": [
    {
     "name": "stdout",
     "output_type": "stream",
     "text": [
      "nan\n",
      "nan\n",
      "nan\n"
     ]
    },
    {
     "ename": "KeyError",
     "evalue": "'Unrecognized datum label: z'",
     "output_type": "error",
     "traceback": [
      "\u001b[0;31m---------------------------------------------------------------------------\u001b[0m",
      "\u001b[0;31mKeyError\u001b[0m                                  Traceback (most recent call last)",
      "Cell \u001b[0;32mIn[11], line 4\u001b[0m\n\u001b[1;32m      2\u001b[0m \u001b[38;5;28mprint\u001b[39m(sample[\u001b[38;5;241m0\u001b[39m, \u001b[38;5;124m\"\u001b[39m\u001b[38;5;124mz\u001b[39m\u001b[38;5;124m\"\u001b[39m])\n\u001b[1;32m      3\u001b[0m \u001b[38;5;28mprint\u001b[39m(sample[\u001b[38;5;124m\"\u001b[39m\u001b[38;5;124mz\u001b[39m\u001b[38;5;124m\"\u001b[39m][\u001b[38;5;241m0\u001b[39m])\n\u001b[0;32m----> 4\u001b[0m \u001b[38;5;28mprint\u001b[39m(\u001b[43msample\u001b[49m\u001b[43m[\u001b[49m\u001b[38;5;241;43m0\u001b[39;49m\u001b[43m]\u001b[49m\u001b[43m[\u001b[49m\u001b[38;5;124;43m\"\u001b[39;49m\u001b[38;5;124;43mz\u001b[39;49m\u001b[38;5;124;43m\"\u001b[39;49m\u001b[43m]\u001b[49m)\n",
      "File \u001b[0;32m~/Work/Research/lib/public-dev/TrackStar/trackstar/core/datum.pyx:96\u001b[0m, in \u001b[0;36mtrackstar.core.datum.datum.__getitem__\u001b[0;34m()\u001b[0m\n",
      "\u001b[0;31mKeyError\u001b[0m: 'Unrecognized datum label: z'"
     ]
    }
   ],
   "source": [
    "print(sample[\"z\", 0])\n",
    "print(sample[0, \"z\"])\n",
    "print(sample[\"z\"][0])\n",
    "print(sample[0][\"z\"])"
   ]
  },
  {
   "cell_type": "markdown",
   "id": "47e4d297-5f21-42f9-8e8a-4d6ff1b750e4",
   "metadata": {},
   "source": [
    "The first three times we indexed our sample, we got the expected ``nan`` value back.\n",
    "However, a ``KeyError`` was raised the fourth time.\n",
    "The difference between the fourth line and the preceding lines is that we *first* asked TrackStar for the $0$th datum, and *then* asked that datum for its measurement of $z$, for which there is none.\n",
    "Unaware that it is embedded in a sample that contains measurements of these quantities, it raises an error.\n",
    "In the third line, we first asked the sample as a whole for every $z$ measurement, so TrackStar knew to include a ``nan`` for the $0$'th datum.\n",
    "In the second and third lines, we gave the sample both ``\"z\"`` and ``0`` simultaneously, so it immediately knew that we were asking for a measurement that does not exist.\n",
    "\n",
    "As discussed above, it is both faster and more memory efficient to index TrackStar data with all values simultaneously.\n",
    "Consequently, ``sample[0, \"z\"]`` and ``sample[\"z\", 0]`` are recommended over ``sample[\"z\"][0]`` anyway."
   ]
  },
  {
   "cell_type": "code",
   "execution_count": null,
   "id": "67f7d72e-991d-496d-8e3c-aa72655414a5",
   "metadata": {},
   "outputs": [],
   "source": []
  }
 ],
 "metadata": {
  "kernelspec": {
   "display_name": "Python 3 (ipykernel)",
   "language": "python",
   "name": "python3"
  },
  "language_info": {
   "codemirror_mode": {
    "name": "ipython",
    "version": 3
   },
   "file_extension": ".py",
   "mimetype": "text/x-python",
   "name": "python",
   "nbconvert_exporter": "python",
   "pygments_lexer": "ipython3",
   "version": "3.12.0"
  }
 },
 "nbformat": 4,
 "nbformat_minor": 5
}
