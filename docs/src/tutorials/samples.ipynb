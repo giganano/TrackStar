{
 "cells": [
  {
   "cell_type": "markdown",
   "id": "3076201d-431b-4a24-ac5b-41a07edb316d",
   "metadata": {},
   "source": [
    "# Samples\n",
    "\n",
    "In this tutorial, we cover the features available for storing data in TrackStar"
   ]
  },
  {
   "cell_type": "markdown",
   "id": "27196a3b-80ee-4b17-b03c-6e60fdc54d8d",
   "metadata": {},
   "source": [
    "### Extra Information for your ``sample``\n",
    "\n",
    "It is often useful for data to have additional information available that does not necessarily correspond to the measurements themselves.\n",
    "One such example would be ID numbers for each data vector.\n",
    "In the context of astrophysics, these may be, e.g., unique identifiers for stars from a given survey or catalog.\n",
    "In the same way that ``NaN`` values represent a lack of data for a particular data vector, ``None`` values can be used to indicate a lack of extra information.\n",
    "\n",
    "TrackStar allows your ``sample`` to store additional data through its ``extra`` attribute, which is a subclass of ``dict``.\n",
    "To demonstrate this, we'll give each of our data vectors a name:"
   ]
  },
  {
   "cell_type": "code",
   "execution_count": 1,
   "id": "e2e0690d-55a6-4a88-9bd3-a92db2cc5c15",
   "metadata": {},
   "outputs": [
    {
     "name": "stdout",
     "output_type": "stream",
     "text": [
      "The history saving thread hit an unexpected error (OperationalError('attempt to write a readonly database')).History will not be written to the database.\n"
     ]
    },
    {
     "ename": "NameError",
     "evalue": "name 'data' is not defined",
     "output_type": "error",
     "traceback": [
      "\u001b[0;31m---------------------------------------------------------------------------\u001b[0m",
      "\u001b[0;31mNameError\u001b[0m                                 Traceback (most recent call last)",
      "Cell \u001b[0;32mIn[1], line 1\u001b[0m\n\u001b[0;32m----> 1\u001b[0m \u001b[38;5;28;01mfor\u001b[39;00m i \u001b[38;5;129;01min\u001b[39;00m \u001b[38;5;28mrange\u001b[39m(\u001b[43mdata\u001b[49m\u001b[38;5;241m.\u001b[39msize):\n\u001b[1;32m      2\u001b[0m     data[i]\u001b[38;5;241m.\u001b[39mextra[\u001b[38;5;124m\"\u001b[39m\u001b[38;5;124mid\u001b[39m\u001b[38;5;124m\"\u001b[39m] \u001b[38;5;241m=\u001b[39m \u001b[38;5;124m\"\u001b[39m\u001b[38;5;124mname\u001b[39m\u001b[38;5;124m\"\u001b[39m \u001b[38;5;241m+\u001b[39m \u001b[38;5;28mstr\u001b[39m(i \u001b[38;5;241m+\u001b[39m \u001b[38;5;241m1\u001b[39m)\n",
      "\u001b[0;31mNameError\u001b[0m: name 'data' is not defined"
     ]
    }
   ],
   "source": [
    "for i in range(data.size):\n",
    "    data[i].extra[\"id\"] = \"name\" + str(i + 1)"
   ]
  },
  {
   "cell_type": "markdown",
   "id": "4c8cf827-6a11-4787-9dd5-f8e56f024fee",
   "metadata": {},
   "source": [
    "Extra information can also be included in your original call to ``trackstar.sample`` by including it as a keyword argument.\n",
    "Simply give it a dictionary that follows the rule ``extra = {key1: value1, key2: value2}`` where ``key1`` and ``key2`` are string labels and ``value1`` and ``value2`` are array-like objects of the appropriate length.\n",
    "\n",
    "The above for-loop is functionally equivalent to going through the ``data.extra`` attribute to modify each entry in the sample in one fell swoop:"
   ]
  },
  {
   "cell_type": "code",
   "execution_count": 2,
   "id": "aa476976-6705-4bbb-a428-179b3b935594",
   "metadata": {},
   "outputs": [
    {
     "ename": "NameError",
     "evalue": "name 'data' is not defined",
     "output_type": "error",
     "traceback": [
      "\u001b[0;31m---------------------------------------------------------------------------\u001b[0m",
      "\u001b[0;31mNameError\u001b[0m                                 Traceback (most recent call last)",
      "Cell \u001b[0;32mIn[2], line 1\u001b[0m\n\u001b[0;32m----> 1\u001b[0m data\u001b[38;5;241m.\u001b[39mextra[\u001b[38;5;124m\"\u001b[39m\u001b[38;5;124mid\u001b[39m\u001b[38;5;124m\"\u001b[39m] \u001b[38;5;241m=\u001b[39m [\u001b[38;5;124m\"\u001b[39m\u001b[38;5;124mname\u001b[39m\u001b[38;5;132;01m%d\u001b[39;00m\u001b[38;5;124m\"\u001b[39m \u001b[38;5;241m%\u001b[39m (i \u001b[38;5;241m+\u001b[39m \u001b[38;5;241m1\u001b[39m) \u001b[38;5;28;01mfor\u001b[39;00m i \u001b[38;5;129;01min\u001b[39;00m \u001b[38;5;28mrange\u001b[39m(\u001b[43mdata\u001b[49m\u001b[38;5;241m.\u001b[39msize)]\n\u001b[1;32m      2\u001b[0m \u001b[38;5;28mprint\u001b[39m(data)\n",
      "\u001b[0;31mNameError\u001b[0m: name 'data' is not defined"
     ]
    }
   ],
   "source": [
    "data.extra[\"id\"] = [\"name%d\" % (i + 1) for i in range(data.size)]\n",
    "print(data)"
   ]
  },
  {
   "cell_type": "markdown",
   "id": "53266fb6-5144-46d5-b1d2-d7779648ef9f",
   "metadata": {},
   "source": [
    "And the information can be accessed by indexing in various intuitive ways:"
   ]
  },
  {
   "cell_type": "code",
   "execution_count": 3,
   "id": "7a6f7f10-25ae-48f2-9355-b37b0077374a",
   "metadata": {},
   "outputs": [
    {
     "ename": "NameError",
     "evalue": "name 'data' is not defined",
     "output_type": "error",
     "traceback": [
      "\u001b[0;31m---------------------------------------------------------------------------\u001b[0m",
      "\u001b[0;31mNameError\u001b[0m                                 Traceback (most recent call last)",
      "Cell \u001b[0;32mIn[3], line 1\u001b[0m\n\u001b[0;32m----> 1\u001b[0m \u001b[38;5;28mprint\u001b[39m(\u001b[43mdata\u001b[49m[\u001b[38;5;241m0\u001b[39m]\u001b[38;5;241m.\u001b[39mextra[\u001b[38;5;124m\"\u001b[39m\u001b[38;5;124mid\u001b[39m\u001b[38;5;124m\"\u001b[39m])\n\u001b[1;32m      2\u001b[0m \u001b[38;5;28mprint\u001b[39m(data\u001b[38;5;241m.\u001b[39mextra[\u001b[38;5;124m\"\u001b[39m\u001b[38;5;124mid\u001b[39m\u001b[38;5;124m\"\u001b[39m, \u001b[38;5;241m0\u001b[39m])\n\u001b[1;32m      3\u001b[0m \u001b[38;5;28mprint\u001b[39m(data\u001b[38;5;241m.\u001b[39mextra[\u001b[38;5;241m0\u001b[39m][\u001b[38;5;124m\"\u001b[39m\u001b[38;5;124mid\u001b[39m\u001b[38;5;124m\"\u001b[39m])\n",
      "\u001b[0;31mNameError\u001b[0m: name 'data' is not defined"
     ]
    }
   ],
   "source": [
    "print(data[0].extra[\"id\"])\n",
    "print(data.extra[\"id\", 0])\n",
    "print(data.extra[0][\"id\"])"
   ]
  },
  {
   "cell_type": "code",
   "execution_count": null,
   "id": "817ee172-24ab-4995-8597-fe438f995876",
   "metadata": {},
   "outputs": [],
   "source": []
  }
 ],
 "metadata": {
  "kernelspec": {
   "display_name": "Python 3 (ipykernel)",
   "language": "python",
   "name": "python3"
  },
  "language_info": {
   "codemirror_mode": {
    "name": "ipython",
    "version": 3
   },
   "file_extension": ".py",
   "mimetype": "text/x-python",
   "name": "python",
   "nbconvert_exporter": "python",
   "pygments_lexer": "ipython3",
   "version": "3.12.3"
  }
 },
 "nbformat": 4,
 "nbformat_minor": 5
}
